{
 "cells": [
  {
   "cell_type": "markdown",
   "metadata": {},
   "source": [
    "# Análisis Farmacocinético Mono-Compartimental de Sunitinib en Ratones\n",
    "\n",
    "## Importar bibliotecas necesarias"
   ]
  },
  {
   "cell_type": "code",
   "execution_count": null,
   "metadata": {},
   "outputs": [],
   "source": [
    "from sunitinib_analysis.utils import solve_for_ka, SSR_2C_micro, solve_2C_micro\n",
    "import matplotlib.pyplot as plt\n",
    "import numpy as np\n",
    "import pandas as pd\n",
    "import random, math"
   ]
  },
  {
   "cell_type": "markdown",
   "metadata": {},
   "source": [
    "## Cargar y visualizar los datos"
   ]
  },
  {
   "cell_type": "code",
   "execution_count": 2,
   "metadata": {},
   "outputs": [
    {
     "data": {
      "text/html": [
       "<div>\n",
       "<style scoped>\n",
       "    .dataframe tbody tr th:only-of-type {\n",
       "        vertical-align: middle;\n",
       "    }\n",
       "\n",
       "    .dataframe tbody tr th {\n",
       "        vertical-align: top;\n",
       "    }\n",
       "\n",
       "    .dataframe thead th {\n",
       "        text-align: right;\n",
       "    }\n",
       "</style>\n",
       "<table border=\"1\" class=\"dataframe\">\n",
       "  <thead>\n",
       "    <tr style=\"text-align: right;\">\n",
       "      <th></th>\n",
       "      <th>Brain</th>\n",
       "      <th>Plasma</th>\n",
       "      <th>Kidney</th>\n",
       "      <th>Liver</th>\n",
       "    </tr>\n",
       "    <tr>\n",
       "      <th>TimePoint</th>\n",
       "      <th></th>\n",
       "      <th></th>\n",
       "      <th></th>\n",
       "      <th></th>\n",
       "    </tr>\n",
       "  </thead>\n",
       "  <tbody>\n",
       "    <tr>\n",
       "      <th>0.00</th>\n",
       "      <td>0.000000</td>\n",
       "      <td>0.000000</td>\n",
       "      <td>0.000000</td>\n",
       "      <td>0.000000</td>\n",
       "    </tr>\n",
       "    <tr>\n",
       "      <th>0.08</th>\n",
       "      <td>2.375455</td>\n",
       "      <td>1.253699</td>\n",
       "      <td>7.725515</td>\n",
       "      <td>28.739378</td>\n",
       "    </tr>\n",
       "    <tr>\n",
       "      <th>0.25</th>\n",
       "      <td>2.428088</td>\n",
       "      <td>1.883693</td>\n",
       "      <td>17.777037</td>\n",
       "      <td>43.681615</td>\n",
       "    </tr>\n",
       "    <tr>\n",
       "      <th>0.50</th>\n",
       "      <td>2.473455</td>\n",
       "      <td>1.635242</td>\n",
       "      <td>22.042997</td>\n",
       "      <td>53.189255</td>\n",
       "    </tr>\n",
       "    <tr>\n",
       "      <th>1.00</th>\n",
       "      <td>3.671161</td>\n",
       "      <td>2.028957</td>\n",
       "      <td>35.874868</td>\n",
       "      <td>80.544272</td>\n",
       "    </tr>\n",
       "    <tr>\n",
       "      <th>2.00</th>\n",
       "      <td>4.597385</td>\n",
       "      <td>2.850109</td>\n",
       "      <td>66.188478</td>\n",
       "      <td>158.306083</td>\n",
       "    </tr>\n",
       "    <tr>\n",
       "      <th>4.00</th>\n",
       "      <td>6.108580</td>\n",
       "      <td>3.384569</td>\n",
       "      <td>64.424283</td>\n",
       "      <td>119.348789</td>\n",
       "    </tr>\n",
       "    <tr>\n",
       "      <th>6.00</th>\n",
       "      <td>4.235917</td>\n",
       "      <td>2.608140</td>\n",
       "      <td>53.622046</td>\n",
       "      <td>90.896761</td>\n",
       "    </tr>\n",
       "    <tr>\n",
       "      <th>8.00</th>\n",
       "      <td>2.888443</td>\n",
       "      <td>1.869260</td>\n",
       "      <td>39.509340</td>\n",
       "      <td>71.328054</td>\n",
       "    </tr>\n",
       "    <tr>\n",
       "      <th>12.00</th>\n",
       "      <td>2.103540</td>\n",
       "      <td>1.188970</td>\n",
       "      <td>19.110558</td>\n",
       "      <td>27.001372</td>\n",
       "    </tr>\n",
       "  </tbody>\n",
       "</table>\n",
       "</div>"
      ],
      "text/plain": [
       "              Brain    Plasma     Kidney       Liver\n",
       "TimePoint                                           \n",
       "0.00       0.000000  0.000000   0.000000    0.000000\n",
       "0.08       2.375455  1.253699   7.725515   28.739378\n",
       "0.25       2.428088  1.883693  17.777037   43.681615\n",
       "0.50       2.473455  1.635242  22.042997   53.189255\n",
       "1.00       3.671161  2.028957  35.874868   80.544272\n",
       "2.00       4.597385  2.850109  66.188478  158.306083\n",
       "4.00       6.108580  3.384569  64.424283  119.348789\n",
       "6.00       4.235917  2.608140  53.622046   90.896761\n",
       "8.00       2.888443  1.869260  39.509340   71.328054\n",
       "12.00      2.103540  1.188970  19.110558   27.001372"
      ]
     },
     "execution_count": 2,
     "metadata": {},
     "output_type": "execute_result"
    }
   ],
   "source": [
    "df = pd.read_csv('data.csv', index_col=0)\n",
    "df"
   ]
  },
  {
   "cell_type": "markdown",
   "metadata": {},
   "source": [
    "## Selección de columnas relevantes"
   ]
  },
  {
   "cell_type": "code",
   "execution_count": 3,
   "metadata": {},
   "outputs": [
    {
     "data": {
      "text/html": [
       "<div>\n",
       "<style scoped>\n",
       "    .dataframe tbody tr th:only-of-type {\n",
       "        vertical-align: middle;\n",
       "    }\n",
       "\n",
       "    .dataframe tbody tr th {\n",
       "        vertical-align: top;\n",
       "    }\n",
       "\n",
       "    .dataframe thead th {\n",
       "        text-align: right;\n",
       "    }\n",
       "</style>\n",
       "<table border=\"1\" class=\"dataframe\">\n",
       "  <thead>\n",
       "    <tr style=\"text-align: right;\">\n",
       "      <th></th>\n",
       "      <th>Plasma</th>\n",
       "    </tr>\n",
       "    <tr>\n",
       "      <th>TimePoint</th>\n",
       "      <th></th>\n",
       "    </tr>\n",
       "  </thead>\n",
       "  <tbody>\n",
       "    <tr>\n",
       "      <th>0.00</th>\n",
       "      <td>0.000000</td>\n",
       "    </tr>\n",
       "    <tr>\n",
       "      <th>0.08</th>\n",
       "      <td>1.253699</td>\n",
       "    </tr>\n",
       "    <tr>\n",
       "      <th>0.25</th>\n",
       "      <td>1.883693</td>\n",
       "    </tr>\n",
       "    <tr>\n",
       "      <th>0.50</th>\n",
       "      <td>1.635242</td>\n",
       "    </tr>\n",
       "    <tr>\n",
       "      <th>1.00</th>\n",
       "      <td>2.028957</td>\n",
       "    </tr>\n",
       "    <tr>\n",
       "      <th>2.00</th>\n",
       "      <td>2.850109</td>\n",
       "    </tr>\n",
       "    <tr>\n",
       "      <th>4.00</th>\n",
       "      <td>3.384569</td>\n",
       "    </tr>\n",
       "    <tr>\n",
       "      <th>6.00</th>\n",
       "      <td>2.608140</td>\n",
       "    </tr>\n",
       "    <tr>\n",
       "      <th>8.00</th>\n",
       "      <td>1.869260</td>\n",
       "    </tr>\n",
       "    <tr>\n",
       "      <th>12.00</th>\n",
       "      <td>1.188970</td>\n",
       "    </tr>\n",
       "  </tbody>\n",
       "</table>\n",
       "</div>"
      ],
      "text/plain": [
       "             Plasma\n",
       "TimePoint          \n",
       "0.00       0.000000\n",
       "0.08       1.253699\n",
       "0.25       1.883693\n",
       "0.50       1.635242\n",
       "1.00       2.028957\n",
       "2.00       2.850109\n",
       "4.00       3.384569\n",
       "6.00       2.608140\n",
       "8.00       1.869260\n",
       "12.00      1.188970"
      ]
     },
     "execution_count": 3,
     "metadata": {},
     "output_type": "execute_result"
    }
   ],
   "source": [
    "df_plasma = df[['Plasma']].copy()\n",
    "df_plasma"
   ]
  },
  {
   "cell_type": "markdown",
   "metadata": {},
   "source": [
    "## Determinar el máximo valor de concentración plasmática"
   ]
  },
  {
   "cell_type": "code",
   "execution_count": 4,
   "metadata": {},
   "outputs": [
    {
     "data": {
      "text/html": [
       "<div>\n",
       "<style scoped>\n",
       "    .dataframe tbody tr th:only-of-type {\n",
       "        vertical-align: middle;\n",
       "    }\n",
       "\n",
       "    .dataframe tbody tr th {\n",
       "        vertical-align: top;\n",
       "    }\n",
       "\n",
       "    .dataframe thead th {\n",
       "        text-align: right;\n",
       "    }\n",
       "</style>\n",
       "<table border=\"1\" class=\"dataframe\">\n",
       "  <thead>\n",
       "    <tr style=\"text-align: right;\">\n",
       "      <th></th>\n",
       "      <th>Plasma</th>\n",
       "    </tr>\n",
       "    <tr>\n",
       "      <th>TimePoint</th>\n",
       "      <th></th>\n",
       "    </tr>\n",
       "  </thead>\n",
       "  <tbody>\n",
       "    <tr>\n",
       "      <th>4.0</th>\n",
       "      <td>3.384569</td>\n",
       "    </tr>\n",
       "    <tr>\n",
       "      <th>6.0</th>\n",
       "      <td>2.608140</td>\n",
       "    </tr>\n",
       "    <tr>\n",
       "      <th>8.0</th>\n",
       "      <td>1.869260</td>\n",
       "    </tr>\n",
       "    <tr>\n",
       "      <th>12.0</th>\n",
       "      <td>1.188970</td>\n",
       "    </tr>\n",
       "  </tbody>\n",
       "</table>\n",
       "</div>"
      ],
      "text/plain": [
       "             Plasma\n",
       "TimePoint          \n",
       "4.0        3.384569\n",
       "6.0        2.608140\n",
       "8.0        1.869260\n",
       "12.0       1.188970"
      ]
     },
     "execution_count": 4,
     "metadata": {},
     "output_type": "execute_result"
    }
   ],
   "source": [
    "max_plasma_idx = df_plasma[\"Plasma\"].idxmax()\n",
    "max_plasma = df_plasma[\"Plasma\"][max_plasma_idx]\n",
    "df_filtered = df_plasma.loc[max_plasma_idx:]\n",
    "df_filtered"
   ]
  },
  {
   "cell_type": "markdown",
   "metadata": {},
   "source": [
    "## Cálculo de la constante de eliminación (k_e) y vida media (t½)\n",
    "\n",
    "Fórmula utilizada:\n",
    "$$\n",
    "\\ln(C) = \\ln(C_0) - k_e \\cdot t\n",
    "$$"
   ]
  },
  {
   "cell_type": "code",
   "execution_count": 5,
   "metadata": {},
   "outputs": [
    {
     "name": "stdout",
     "output_type": "stream",
     "text": [
      "Constante de eliminación (k_e): 0.1318 h^-1\n",
      "Vida media (t1/2): 5.26 h\n",
      "Intersección con el eje (ln(C0)): 1.7327\n"
     ]
    }
   ],
   "source": [
    "t_terminal = df_filtered.index.tolist()\n",
    "cp_terminal = df_filtered[\"Plasma\"].tolist()\n",
    "lnCp_terminal = np.log(cp_terminal)\n",
    "slope, intercept = np.polyfit(t_terminal, lnCp_terminal, 1)\n",
    "\n",
    "ke = -slope\n",
    "t_half = np.log(2)/ke\n",
    "\n",
    "print(f'Constante de eliminación (k_e): {ke:.4f} h^-1')\n",
    "print(f'Vida media (t1/2): {t_half:.2f} h')\n",
    "print(f'Intersección con el eje (ln(C0)): {intercept:.4f}')"
   ]
  },
  {
   "cell_type": "markdown",
   "metadata": {},
   "source": [
    "## Estimación de la constante de absorción (k_a)\n",
    "\n",
    "Ecuación a resolver:\n",
    "$$\n",
    "\\ln(x) = k_e(x-1)t_{max}\n",
    "$$"
   ]
  },
  {
   "cell_type": "code",
   "execution_count": 6,
   "metadata": {},
   "outputs": [
    {
     "name": "stdout",
     "output_type": "stream",
     "text": [
      "k_e=0.132 h^-1, t_max=4.0 h, k_a ~ 0.4237 h^-1\n"
     ]
    }
   ],
   "source": [
    "k_a_estimada = solve_for_ka(ke=ke, tmax=max_plasma_idx)\n",
    "print(f\"k_e={ke:.3f} h^-1, t_max={max_plasma_idx} h, k_a ~ {k_a_estimada:.4f} h^-1\")"
   ]
  },
  {
   "cell_type": "markdown",
   "metadata": {},
   "source": [
    "## Cálculo del factor de concentración"
   ]
  },
  {
   "cell_type": "code",
   "execution_count": 7,
   "metadata": {},
   "outputs": [
    {
     "name": "stdout",
     "output_type": "stream",
     "text": [
      "Factor de concentración: 8.323754856250913\n"
     ]
    }
   ],
   "source": [
    "factor = max_plasma / (math.exp(-ke * max_plasma_idx) - math.exp(-k_a_estimada * max_plasma_idx))\n",
    "print(f\"Factor de concentración: {factor}\")"
   ]
  },
  {
   "cell_type": "markdown",
   "metadata": {},
   "source": [
    "## Modelo Monocompartimental con absorción y eliminación de primer orden\n",
    "\n",
    "Ecuación del modelo:\n",
    "$$\n",
    "C(t) = \\text{factor} \\cdot \\left(e^{-k_e \\cdot t} - e^{-k_a \\cdot t}\\right)\n",
    "$$"
   ]
  },
  {
   "cell_type": "code",
   "execution_count": 8,
   "metadata": {},
   "outputs": [],
   "source": [
    "def C_1comp_1stOrder_abs_elim(t, factor=factor, ka=k_a_estimada, ke=ke):\n",
    "    Ct = factor * (np.exp(-ke * t) - np.exp(-ka * t))\n",
    "    return Ct"
   ]
  },
  {
   "cell_type": "markdown",
   "metadata": {},
   "source": [
    "## Predicciones y cálculo de errores"
   ]
  },
  {
   "cell_type": "code",
   "execution_count": 9,
   "metadata": {},
   "outputs": [
    {
     "data": {
      "text/html": [
       "<div>\n",
       "<style scoped>\n",
       "    .dataframe tbody tr th:only-of-type {\n",
       "        vertical-align: middle;\n",
       "    }\n",
       "\n",
       "    .dataframe tbody tr th {\n",
       "        vertical-align: top;\n",
       "    }\n",
       "\n",
       "    .dataframe thead th {\n",
       "        text-align: right;\n",
       "    }\n",
       "</style>\n",
       "<table border=\"1\" class=\"dataframe\">\n",
       "  <thead>\n",
       "    <tr style=\"text-align: right;\">\n",
       "      <th></th>\n",
       "      <th>Plasma</th>\n",
       "      <th>Pred 1C</th>\n",
       "      <th>error</th>\n",
       "      <th>error^2</th>\n",
       "    </tr>\n",
       "    <tr>\n",
       "      <th>TimePoint</th>\n",
       "      <th></th>\n",
       "      <th></th>\n",
       "      <th></th>\n",
       "      <th></th>\n",
       "    </tr>\n",
       "  </thead>\n",
       "  <tbody>\n",
       "    <tr>\n",
       "      <th>0.00</th>\n",
       "      <td>0.000000</td>\n",
       "      <td>0.000000</td>\n",
       "      <td>0.000000</td>\n",
       "      <td>0.000000</td>\n",
       "    </tr>\n",
       "    <tr>\n",
       "      <th>0.08</th>\n",
       "      <td>1.253699</td>\n",
       "      <td>0.190130</td>\n",
       "      <td>1.063570</td>\n",
       "      <td>1.131181</td>\n",
       "    </tr>\n",
       "    <tr>\n",
       "      <th>0.25</th>\n",
       "      <td>1.883693</td>\n",
       "      <td>0.566862</td>\n",
       "      <td>1.316831</td>\n",
       "      <td>1.734044</td>\n",
       "    </tr>\n",
       "    <tr>\n",
       "      <th>0.50</th>\n",
       "      <td>1.635242</td>\n",
       "      <td>1.058368</td>\n",
       "      <td>0.576874</td>\n",
       "      <td>0.332784</td>\n",
       "    </tr>\n",
       "    <tr>\n",
       "      <th>1.00</th>\n",
       "      <td>2.028957</td>\n",
       "      <td>1.847152</td>\n",
       "      <td>0.181806</td>\n",
       "      <td>0.033053</td>\n",
       "    </tr>\n",
       "    <tr>\n",
       "      <th>2.00</th>\n",
       "      <td>2.850109</td>\n",
       "      <td>2.828155</td>\n",
       "      <td>0.021954</td>\n",
       "      <td>0.000482</td>\n",
       "    </tr>\n",
       "    <tr>\n",
       "      <th>4.00</th>\n",
       "      <td>3.384569</td>\n",
       "      <td>3.384569</td>\n",
       "      <td>0.000000</td>\n",
       "      <td>0.000000</td>\n",
       "    </tr>\n",
       "    <tr>\n",
       "      <th>6.00</th>\n",
       "      <td>2.608140</td>\n",
       "      <td>3.119462</td>\n",
       "      <td>-0.511322</td>\n",
       "      <td>0.261450</td>\n",
       "    </tr>\n",
       "    <tr>\n",
       "      <th>8.00</th>\n",
       "      <td>1.869260</td>\n",
       "      <td>2.619034</td>\n",
       "      <td>-0.749773</td>\n",
       "      <td>0.562160</td>\n",
       "    </tr>\n",
       "    <tr>\n",
       "      <th>12.00</th>\n",
       "      <td>1.188970</td>\n",
       "      <td>1.659886</td>\n",
       "      <td>-0.470916</td>\n",
       "      <td>0.221762</td>\n",
       "    </tr>\n",
       "  </tbody>\n",
       "</table>\n",
       "</div>"
      ],
      "text/plain": [
       "             Plasma   Pred 1C     error   error^2\n",
       "TimePoint                                        \n",
       "0.00       0.000000  0.000000  0.000000  0.000000\n",
       "0.08       1.253699  0.190130  1.063570  1.131181\n",
       "0.25       1.883693  0.566862  1.316831  1.734044\n",
       "0.50       1.635242  1.058368  0.576874  0.332784\n",
       "1.00       2.028957  1.847152  0.181806  0.033053\n",
       "2.00       2.850109  2.828155  0.021954  0.000482\n",
       "4.00       3.384569  3.384569  0.000000  0.000000\n",
       "6.00       2.608140  3.119462 -0.511322  0.261450\n",
       "8.00       1.869260  2.619034 -0.749773  0.562160\n",
       "12.00      1.188970  1.659886 -0.470916  0.221762"
      ]
     },
     "execution_count": 9,
     "metadata": {},
     "output_type": "execute_result"
    }
   ],
   "source": [
    "df_plasma.loc[:, 'Pred 1C'] = df_plasma.index.to_series().apply(C_1comp_1stOrder_abs_elim)\n",
    "df_plasma.loc[:,\"error\"] = df_plasma[\"Plasma\"] - df_plasma[\"Pred 1C\"]\n",
    "df_plasma.loc[:,\"error^2\"] = df_plasma[\"error\"]**2\n",
    "df_plasma"
   ]
  },
  {
   "cell_type": "code",
   "execution_count": 10,
   "metadata": {},
   "outputs": [
    {
     "data": {
      "image/png": "[encoded data removed]",
      "text/plain": [
       "<Figure size 1000x500 with 1 Axes>"
      ]
     },
     "metadata": {},
     "output_type": "display_data"
    }
   ],
   "source": [
    "plasma_values = df_plasma[\"Plasma\"].tolist()\n",
    "pred_values = df_plasma[\"Pred 1C\"].tolist()\n",
    "\n",
    "plt.figure(figsize=(10, 5))\n",
    "plt.plot(df_plasma.index, plasma_values, label='Plasma', marker='o')\n",
    "plt.plot(df_plasma.index, pred_values, label='Pred 1C', marker='x')\n",
    "plt.xlabel('Time (h)')\n",
    "plt.ylabel('Concentration')\n",
    "plt.title('Real plasma concentration vs predicted 1C')\n",
    "plt.legend()\n",
    "plt.show()"
   ]
  },
  {
   "cell_type": "markdown",
   "metadata": {},
   "source": [
    "## Cálculo de SSR (Suma de cuadrados residuales)"
   ]
  },
  {
   "cell_type": "code",
   "execution_count": 11,
   "metadata": {},
   "outputs": [
    {
     "name": "stdout",
     "output_type": "stream",
     "text": [
      "SSR: 4.2769\n"
     ]
    }
   ],
   "source": [
    "ssr_1c = df_plasma[\"error^2\"].sum()\n",
    "print(f\"SSR: {ssr_1c:.4f}\")"
   ]
  },
  {
   "cell_type": "markdown",
   "metadata": {},
   "source": [
    "## Cálculo del criterio de información de Akaike (AIC)\n",
    "\n",
    "Fórmula utilizada:\n",
    "$$\n",
    "AIC = n \\cdot \\ln\\left(\\frac{SSR}{n}\\right) + 2p\n",
    "$$\n",
    "\n",
    "Donde:\n",
    "- \\( n \\) = número de observaciones\n",
    "- \\( p \\) = número de parámetros (k_a, k_e, factor)"
   ]
  },
  {
   "cell_type": "code",
   "execution_count": 12,
   "metadata": {},
   "outputs": [
    {
     "name": "stdout",
     "output_type": "stream",
     "text": [
      "AIC: -0.6959\n"
     ]
    }
   ],
   "source": [
    "p = 3\n",
    "n = len(df_plasma)-1\n",
    "\n",
    "aic_1c = n*np.log(ssr_1c/n) + 2*p\n",
    "print(f\"AIC: {aic_1c:.4f}\")"
   ]
  },
  {
   "cell_type": "markdown",
   "metadata": {},
   "source": [
    "## Resumen de resultados\n",
    "\n",
    "- **k_e** (constante de eliminación): 0.132\n",
    "- **k_a** (constante de absorción): 0.4237\n",
    "- **Factor de concentración**: 8.32\n",
    "- **SSR**: 4.2769\n",
    "- **AIC**: -0.6959\n",
    "\n",
    "Esto permite evaluar el efecto del ketoconazol sobre la distribución de sunitinib en tejidos de ratones mediante comparación cuantitativa del modelo farmacocinético ajustado."
   ]
  },
  {
   "cell_type": "markdown",
   "metadata": {},
   "source": [
    "# Análisis Farmacocinético Bi-Compartimental de Sunitinib en Ratones"
   ]
  },
  {
   "cell_type": "markdown",
   "metadata": {},
   "source": [
    "## Selección de columnas relevantes"
   ]
  },
  {
   "cell_type": "code",
   "execution_count": 13,
   "metadata": {},
   "outputs": [
    {
     "data": {
      "text/html": [
       "<div>\n",
       "<style scoped>\n",
       "    .dataframe tbody tr th:only-of-type {\n",
       "        vertical-align: middle;\n",
       "    }\n",
       "\n",
       "    .dataframe tbody tr th {\n",
       "        vertical-align: top;\n",
       "    }\n",
       "\n",
       "    .dataframe thead th {\n",
       "        text-align: right;\n",
       "    }\n",
       "</style>\n",
       "<table border=\"1\" class=\"dataframe\">\n",
       "  <thead>\n",
       "    <tr style=\"text-align: right;\">\n",
       "      <th></th>\n",
       "      <th>Plasma</th>\n",
       "      <th>Pred 1C</th>\n",
       "      <th>error</th>\n",
       "      <th>error^2</th>\n",
       "    </tr>\n",
       "    <tr>\n",
       "      <th>TimePoint</th>\n",
       "      <th></th>\n",
       "      <th></th>\n",
       "      <th></th>\n",
       "      <th></th>\n",
       "    </tr>\n",
       "  </thead>\n",
       "  <tbody>\n",
       "    <tr>\n",
       "      <th>0.00</th>\n",
       "      <td>0.000000</td>\n",
       "      <td>0.000000</td>\n",
       "      <td>0.000000</td>\n",
       "      <td>0.000000</td>\n",
       "    </tr>\n",
       "    <tr>\n",
       "      <th>0.08</th>\n",
       "      <td>1.253699</td>\n",
       "      <td>0.190130</td>\n",
       "      <td>1.063570</td>\n",
       "      <td>1.131181</td>\n",
       "    </tr>\n",
       "    <tr>\n",
       "      <th>0.25</th>\n",
       "      <td>1.883693</td>\n",
       "      <td>0.566862</td>\n",
       "      <td>1.316831</td>\n",
       "      <td>1.734044</td>\n",
       "    </tr>\n",
       "    <tr>\n",
       "      <th>0.50</th>\n",
       "      <td>1.635242</td>\n",
       "      <td>1.058368</td>\n",
       "      <td>0.576874</td>\n",
       "      <td>0.332784</td>\n",
       "    </tr>\n",
       "    <tr>\n",
       "      <th>1.00</th>\n",
       "      <td>2.028957</td>\n",
       "      <td>1.847152</td>\n",
       "      <td>0.181806</td>\n",
       "      <td>0.033053</td>\n",
       "    </tr>\n",
       "    <tr>\n",
       "      <th>2.00</th>\n",
       "      <td>2.850109</td>\n",
       "      <td>2.828155</td>\n",
       "      <td>0.021954</td>\n",
       "      <td>0.000482</td>\n",
       "    </tr>\n",
       "    <tr>\n",
       "      <th>4.00</th>\n",
       "      <td>3.384569</td>\n",
       "      <td>3.384569</td>\n",
       "      <td>0.000000</td>\n",
       "      <td>0.000000</td>\n",
       "    </tr>\n",
       "    <tr>\n",
       "      <th>6.00</th>\n",
       "      <td>2.608140</td>\n",
       "      <td>3.119462</td>\n",
       "      <td>-0.511322</td>\n",
       "      <td>0.261450</td>\n",
       "    </tr>\n",
       "    <tr>\n",
       "      <th>8.00</th>\n",
       "      <td>1.869260</td>\n",
       "      <td>2.619034</td>\n",
       "      <td>-0.749773</td>\n",
       "      <td>0.562160</td>\n",
       "    </tr>\n",
       "    <tr>\n",
       "      <th>12.00</th>\n",
       "      <td>1.188970</td>\n",
       "      <td>1.659886</td>\n",
       "      <td>-0.470916</td>\n",
       "      <td>0.221762</td>\n",
       "    </tr>\n",
       "  </tbody>\n",
       "</table>\n",
       "</div>"
      ],
      "text/plain": [
       "             Plasma   Pred 1C     error   error^2\n",
       "TimePoint                                        \n",
       "0.00       0.000000  0.000000  0.000000  0.000000\n",
       "0.08       1.253699  0.190130  1.063570  1.131181\n",
       "0.25       1.883693  0.566862  1.316831  1.734044\n",
       "0.50       1.635242  1.058368  0.576874  0.332784\n",
       "1.00       2.028957  1.847152  0.181806  0.033053\n",
       "2.00       2.850109  2.828155  0.021954  0.000482\n",
       "4.00       3.384569  3.384569  0.000000  0.000000\n",
       "6.00       2.608140  3.119462 -0.511322  0.261450\n",
       "8.00       1.869260  2.619034 -0.749773  0.562160\n",
       "12.00      1.188970  1.659886 -0.470916  0.221762"
      ]
     },
     "execution_count": 13,
     "metadata": {},
     "output_type": "execute_result"
    }
   ],
   "source": [
    "df_plasma"
   ]
  },
  {
   "cell_type": "markdown",
   "metadata": {},
   "source": [
    "## Datos observados"
   ]
  },
  {
   "cell_type": "code",
   "execution_count": 14,
   "metadata": {},
   "outputs": [],
   "source": [
    "t_obs = df_plasma.index.tolist()[1:]\n",
    "cp_obs = df_plasma[\"Plasma\"].tolist()[1:]\n",
    "n = len(t_obs)"
   ]
  },
  {
   "cell_type": "markdown",
   "metadata": {},
   "source": [
    "## Modelo Bicompartimental (microconstantes)\n",
    "Las ecuaciones diferenciales del modelo bicompartimental son:\n",
    "\n",
    "$$\n",
    "\\frac{dX_g}{dt} = -k_a \\cdot X_g\n",
    "$$\n",
    "$$\n",
    "\\frac{dX_c}{dt} = k_a X_g - k_{10} X_c - k_{12} X_c + k_{21} X_p\n",
    "$$\n",
    "$$\n",
    "\\frac{dX_p}{dt} = k_{12} X_c - k_{21} X_p\n",
    "$$\n",
    "\n",
    "La concentración plasmática es:\n",
    "\n",
    "$$\n",
    "C_p(t) = \\frac{X_c(t)}{V_c}\n",
    "$$\n",
    "\n",
    "## Función de integración numérica (Euler)"
   ]
  },
  {
   "cell_type": "markdown",
   "metadata": {},
   "source": [
    "```python\n",
    "def solve_2C_micro(ka, k10, k12, k21, Vc, times, dt=0.02):\n",
    "    Xg, Xc, Xp = 1.0, 0.0, 0.0\n",
    "    t_current = 0.0\n",
    "    results, idx_times = [], 0\n",
    "    max_time = times[-1]\n",
    "\n",
    "    while t_current <= max_time + 1e-9:\n",
    "        while idx_times < len(times) and t_current >= times[idx_times]-1e-9:\n",
    "            Cp = Xc / Vc\n",
    "            results.append(Cp)\n",
    "            idx_times += 1\n",
    "            if idx_times >= len(times):\n",
    "                break\n",
    "\n",
    "        dXg = -ka * Xg\n",
    "        dXc = ka * Xg - k10 * Xc - k12 * Xc + k21 * Xp\n",
    "        dXp = k12 * Xc - k21 * Xp\n",
    "\n",
    "        Xg += dXg * dt\n",
    "        Xc += dXc * dt\n",
    "        Xp += dXp * dt\n",
    "        t_current += dt\n",
    "\n",
    "    return np.array(results)\n",
    "```"
   ]
  },
  {
   "cell_type": "markdown",
   "metadata": {},
   "source": [
    "## Función para calcular SSR"
   ]
  },
  {
   "cell_type": "markdown",
   "metadata": {},
   "source": [
    "```python\n",
    "def SSR_2C_micro(params, t_obs, cp_obs):\n",
    "    ka, k10, k12, k21, Vc = params\n",
    "    if any(p <= 0 for p in params):\n",
    "        return 1e12\n",
    "\n",
    "    cp_pred = solve_2C_micro(ka, k10, k12, k21, Vc, t_obs)\n",
    "    if np.any(cp_pred < 0) or len(cp_pred) != len(cp_obs):\n",
    "        return 1e12\n",
    "\n",
    "    ssr = np.sum((cp_obs - cp_pred)**2)\n",
    "    return ssr\n",
    "```"
   ]
  },
  {
   "cell_type": "markdown",
   "metadata": {},
   "source": [
    "## Optimización de parámetros por búsqueda aleatoria"
   ]
  },
  {
   "cell_type": "code",
   "execution_count": 15,
   "metadata": {},
   "outputs": [
    {
     "name": "stdout",
     "output_type": "stream",
     "text": [
      "Mejor SSR encontrado: 2.2116222231494587\n",
      "Parámetros (ka, k10, k12, k21, Vc) = (0.6466797633846326, 0.1573120040466821, 0.4492922916273097, 0.9008250884827278, 0.15134608984026762)\n"
     ]
    }
   ],
   "source": [
    "best_params, ssr_2c = None, 1e15\n",
    "random.seed(0)\n",
    "\n",
    "ssrs = []\n",
    "for _ in range(60000):\n",
    "    ka  = 10**random.uniform(-2, 0.5)\n",
    "    k10 = 10**random.uniform(-2, 0.3)\n",
    "    k12 = 10**random.uniform(-2, 0.5)\n",
    "    k21 = 10**random.uniform(-2, 0.5)\n",
    "    Vc  = 10**random.uniform(-1, 1.3)\n",
    "    params = (ka, k10, k12, k21, Vc)\n",
    "    ssr = SSR_2C_micro(params, t_obs, cp_obs)\n",
    "    ssrs.append(ssr)\n",
    "\n",
    "    if ssr < ssr_2c:\n",
    "        ssr_2c, best_params = ssr, params\n",
    "\n",
    "print(\"Mejor SSR encontrado:\", ssr_2c)\n",
    "print(\"Parámetros (ka, k10, k12, k21, Vc) =\", best_params)"
   ]
  },
  {
   "cell_type": "code",
   "execution_count": 16,
   "metadata": {},
   "outputs": [
    {
     "data": {
      "image/png": "[encoded data removed]",
      "text/plain": [
       "<Figure size 1000x500 with 1 Axes>"
      ]
     },
     "metadata": {},
     "output_type": "display_data"
    }
   ],
   "source": [
    "ka, k10, k12, k21, Vc = best_params\n",
    "cp_pred = solve_2C_micro(ka, k10, k12, k21, Vc, t_obs)\n",
    "plt.figure(figsize=(10, 5))\n",
    "plt.plot(t_obs, cp_obs, label='Plasma', marker='o')\n",
    "plt.plot(t_obs, cp_pred, label='2D', marker='x')\n",
    "plt.xlabel('Time (h)')\n",
    "plt.ylabel('Concentration')\n",
    "plt.title('Real plasma concentration vs predicted 2C')\n",
    "plt.legend()\n",
    "plt.show()"
   ]
  },
  {
   "cell_type": "markdown",
   "metadata": {},
   "source": [
    "## Criterio de información de Akaike (AIC)\n",
    "\n",
    "La fórmula del AIC es:\n",
    "\n",
    "$$\n",
    "AIC = n \\cdot \\ln\\left(\\frac{SSR}{n}\\right) + 2p\n",
    "$$\n",
    "\n",
    "donde \\( n \\) es el número de observaciones y \\( p \\) es el número de parámetros libres (5 en este caso)."
   ]
  },
  {
   "cell_type": "code",
   "execution_count": 17,
   "metadata": {},
   "outputs": [
    {
     "name": "stdout",
     "output_type": "stream",
     "text": [
      "AIC (modelo bicompartimental) = -2.631484641105997\n"
     ]
    }
   ],
   "source": [
    "p = 5\n",
    "aic_2c = n * math.log(ssr_2c / n) + 2 * p\n",
    "print(\"AIC (modelo bicompartimental) =\", aic_2c)"
   ]
  },
  {
   "cell_type": "markdown",
   "metadata": {},
   "source": [
    "## Resumen de resultados\n",
    "\n",
    "- **Parámetros óptimos**: (ka, k10, k12, k21, Vc) = (0.647, 0.157, 0.449, 0.9, 0.151)\n",
    "- **SSR**: 2.21\n",
    "- **AIC**: -2.631\n",
    "\n",
    "Esto permite evaluar si el modelo bicompartimental mejora respecto al modelo monocompartimental para describir la farmacocinética del sunitinib en plasma."
   ]
  },
  {
   "cell_type": "code",
   "execution_count": 18,
   "metadata": {},
   "outputs": [
    {
     "data": {
      "text/html": [
       "<div>\n",
       "<style scoped>\n",
       "    .dataframe tbody tr th:only-of-type {\n",
       "        vertical-align: middle;\n",
       "    }\n",
       "\n",
       "    .dataframe tbody tr th {\n",
       "        vertical-align: top;\n",
       "    }\n",
       "\n",
       "    .dataframe thead th {\n",
       "        text-align: right;\n",
       "    }\n",
       "</style>\n",
       "<table border=\"1\" class=\"dataframe\">\n",
       "  <thead>\n",
       "    <tr style=\"text-align: right;\">\n",
       "      <th></th>\n",
       "      <th>SSR</th>\n",
       "      <th>AIC</th>\n",
       "    </tr>\n",
       "    <tr>\n",
       "      <th>Modelo</th>\n",
       "      <th></th>\n",
       "      <th></th>\n",
       "    </tr>\n",
       "  </thead>\n",
       "  <tbody>\n",
       "    <tr>\n",
       "      <th>Mono-Compartimental</th>\n",
       "      <td>4.276915</td>\n",
       "      <td>-0.695933</td>\n",
       "    </tr>\n",
       "    <tr>\n",
       "      <th>Bi-Compartimental</th>\n",
       "      <td>2.211622</td>\n",
       "      <td>-2.631485</td>\n",
       "    </tr>\n",
       "  </tbody>\n",
       "</table>\n",
       "</div>"
      ],
      "text/plain": [
       "                          SSR       AIC\n",
       "Modelo                                 \n",
       "Mono-Compartimental  4.276915 -0.695933\n",
       "Bi-Compartimental    2.211622 -2.631485"
      ]
     },
     "execution_count": 18,
     "metadata": {},
     "output_type": "execute_result"
    }
   ],
   "source": [
    "results_df = pd.DataFrame({\"Mono-Compartimental\": [ssr_1c, aic_1c], \n",
    "                        \"Bi-Compartimental\": [ssr_2c, aic_2c]}, \n",
    "                        index=['SSR', 'AIC']\n",
    ")\n",
    "results_df = results_df.T\n",
    "results_df.index.name = 'Modelo'\n",
    "results_df"
   ]
  },
  {
   "cell_type": "markdown",
   "metadata": {},
   "source": [
    "# Conclusiones del Análisis\n",
    "\n",
    "El análisis comparativo entre los modelos farmacocinéticos indica que el modelo **bi-compartimental** es más adecuado que el **mono-compartimental**, debido a que presenta un valor de **SSR más bajo (2.21 frente a 4.28)**, lo que refleja una mejor adaptación a los datos observados. Asimismo, el **AIC es significativamente inferior (-2.63 frente a -0.70)**, reforzando que el modelo bi-compartimental ofrece un mejor balance entre ajuste y simplicidad. Por tanto, se recomienda el uso del modelo bi-compartimental para describir estos datos."
   ]
  }
 ],
 "metadata": {
  "kernelspec": {
   "display_name": "venv",
   "language": "python",
   "name": "python3"
  },
  "language_info": {
   "codemirror_mode": {
    "name": "ipython",
    "version": 3
   },
   "file_extension": ".py",
   "mimetype": "text/x-python",
   "name": "python",
   "nbconvert_exporter": "python",
   "pygments_lexer": "ipython3",
   "version": "3.13.2"
  }
 },
 "nbformat": 4,
 "nbformat_minor": 2
}
